{
 "cells": [
  {
   "cell_type": "markdown",
   "metadata": {
    "run_control": {
     "frozen": false,
     "read_only": false
    }
   },
   "source": [
    "### Embedding GeoGebra files in IPython notebook"
   ]
  },
  {
   "cell_type": "markdown",
   "metadata": {
    "run_control": {
     "frozen": false,
     "read_only": false
    }
   },
   "source": [
    "The following notebook is inspired by [this ipython-asymptote notebook](http://nbviewer.ipython.org/github/azjps/ipython-asymptote/blob/master/examples/asymptote_magic_examples.ipynb)."
   ]
  },
  {
   "cell_type": "markdown",
   "metadata": {
    "run_control": {
     "frozen": false,
     "read_only": false
    }
   },
   "source": [
    "GeoGebra is an open source geometry software."
   ]
  },
  {
   "cell_type": "markdown",
   "metadata": {
    "run_control": {
     "frozen": false,
     "read_only": false
    }
   },
   "source": [
    "This page is a IPython notebook, which is essentially a python shell with a HTML-based UI backend. Instructions for downloading and installing the IPython notebook are located [here](http://ipython.org/install.html). Notebooks offer a large array of features, such as being able to run commands and display output for programming languages outside of python, and makes developing scripts incrementally and saving intermediate output very easy. Since we can execute arbitrary HTML and JavaScript code in an IPython notebook, we have the capability to embed GeoGebra applets!"
   ]
  },
  {
   "cell_type": "markdown",
   "metadata": {
    "run_control": {
     "frozen": false,
     "read_only": false
    }
   },
   "source": [
    "A given code cell can be run with the keys `<Shift>`+`<Enter>` or the $\\blacktriangleright$ button. Commands entered into a IPython cell starting with percent signs ('%') indicate to IPython to use a [IPython magic](http://nbviewer.ipython.org/github/ipython/ipython/blob/1.x/examples/notebooks/Cell%20Magics.ipynb). The GeoGebra IPython magic is a  IPython magic which can display Java and (eventually) HTML5 GeoGebra applets."
   ]
  },
  {
   "cell_type": "code",
   "execution_count": 6,
   "metadata": {},
   "outputs": [
    {
     "name": "stdout",
     "output_type": "stream",
     "text": [
      "Collecting pyggb\n",
      "\u001b[31m  Could not find a version that satisfies the requirement pyggb (from versions: )\u001b[0m\n",
      "\u001b[31mNo matching distribution found for pyggb\u001b[0m\n",
      "\u001b[33mYou are using pip version 10.0.1, however version 18.0 is available.\n",
      "You should consider upgrading via the 'pip install --upgrade pip' command.\u001b[0m\n"
     ]
    },
    {
     "ename": "ImportError",
     "evalue": "No module named pyggb.geogebra_magic",
     "output_type": "error",
     "traceback": [
      "\u001b[0;31m---------------------------------------------------------------------------\u001b[0m",
      "\u001b[0;31mImportError\u001b[0m                               Traceback (most recent call last)",
      "\u001b[0;32m<ipython-input-6-45068f6320fe>\u001b[0m in \u001b[0;36m<module>\u001b[0;34m()\u001b[0m\n\u001b[1;32m      1\u001b[0m \u001b[0mget_ipython\u001b[0m\u001b[0;34m(\u001b[0m\u001b[0;34m)\u001b[0m\u001b[0;34m.\u001b[0m\u001b[0msystem\u001b[0m\u001b[0;34m(\u001b[0m\u001b[0;34mu'pip install pyggb'\u001b[0m\u001b[0;34m)\u001b[0m\u001b[0;34m\u001b[0m\u001b[0m\n\u001b[1;32m      2\u001b[0m \u001b[0;34m\u001b[0m\u001b[0m\n\u001b[0;32m----> 3\u001b[0;31m \u001b[0;32mimport\u001b[0m \u001b[0mpyggb\u001b[0m\u001b[0;34m.\u001b[0m\u001b[0mgeogebra_magic\u001b[0m\u001b[0;34m\u001b[0m\u001b[0m\n\u001b[0m",
      "\u001b[0;31mImportError\u001b[0m: No module named pyggb.geogebra_magic"
     ]
    }
   ],
   "source": [
    "!pip install pyggb\n",
    "\n",
    "import pyggb.geogebra_magic"
   ]
  },
  {
   "cell_type": "code",
   "execution_count": 4,
   "metadata": {
    "ExecuteTime": {
     "end_time": "2018-04-13T02:27:54.826241",
     "start_time": "2018-04-13T02:27:54.719499"
    },
    "run_control": {
     "frozen": false,
     "read_only": false
    }
   },
   "outputs": [
    {
     "ename": "AssertionError",
     "evalue": "",
     "output_type": "error",
     "traceback": [
      "\u001b[0;31m---------------------------------------------------------------------------\u001b[0m",
      "\u001b[0;31mAssertionError\u001b[0m                            Traceback (most recent call last)",
      "\u001b[0;32m<ipython-input-4-447cc14ec80b>\u001b[0m in \u001b[0;36m<module>\u001b[0;34m()\u001b[0m\n\u001b[1;32m      6\u001b[0m \u001b[0;32mexcept\u001b[0m \u001b[0mImportError\u001b[0m\u001b[0;34m:\u001b[0m\u001b[0;34m\u001b[0m\u001b[0m\n\u001b[1;32m      7\u001b[0m     \u001b[0;31m# Assuming CWD is examples/\u001b[0m\u001b[0;34m\u001b[0m\u001b[0;34m\u001b[0m\u001b[0m\n\u001b[0;32m----> 8\u001b[0;31m     \u001b[0;32massert\u001b[0m \u001b[0mos\u001b[0m\u001b[0;34m.\u001b[0m\u001b[0mpath\u001b[0m\u001b[0;34m.\u001b[0m\u001b[0misfile\u001b[0m\u001b[0;34m(\u001b[0m\u001b[0;34m'../pyggb/geogebra_magic.py'\u001b[0m\u001b[0;34m)\u001b[0m\u001b[0;34m\u001b[0m\u001b[0m\n\u001b[0m\u001b[1;32m      9\u001b[0m     \u001b[0msys\u001b[0m\u001b[0;34m.\u001b[0m\u001b[0mpath\u001b[0m\u001b[0;34m.\u001b[0m\u001b[0mappend\u001b[0m\u001b[0;34m(\u001b[0m\u001b[0;34m'../'\u001b[0m\u001b[0;34m)\u001b[0m\u001b[0;34m\u001b[0m\u001b[0m\n\u001b[1;32m     10\u001b[0m     \u001b[0;32mimport\u001b[0m \u001b[0mpyggb\u001b[0m\u001b[0;34m.\u001b[0m\u001b[0mgeogebra_magic\u001b[0m\u001b[0;34m\u001b[0m\u001b[0m\n",
      "\u001b[0;31mAssertionError\u001b[0m: "
     ]
    }
   ],
   "source": [
    "import os\n",
    "import sys  \n",
    "\n",
    "try:\n",
    "    import pyggb.geogebra_magic\n",
    "except ImportError:\n",
    "    # Assuming CWD is examples/\n",
    "    assert os.path.isfile('../pyggb/geogebra_magic.py')\n",
    "    sys.path.append('../')\n",
    "    import pyggb.geogebra_magic"
   ]
  },
  {
   "cell_type": "code",
   "execution_count": 2,
   "metadata": {
    "ExecuteTime": {
     "end_time": "2018-04-13T02:27:54.848410",
     "start_time": "2018-04-13T02:27:54.827195"
    },
    "run_control": {
     "frozen": false,
     "read_only": false
    }
   },
   "outputs": [],
   "source": [
    "%reload_ext pyggb.geogebra_magic"
   ]
  },
  {
   "cell_type": "code",
   "execution_count": 3,
   "metadata": {
    "ExecuteTime": {
     "end_time": "2018-04-13T02:27:54.861536",
     "start_time": "2018-04-13T02:27:54.849312"
    },
    "run_control": {
     "frozen": false,
     "read_only": false
    }
   },
   "outputs": [],
   "source": [
    "%ggb?"
   ]
  },
  {
   "cell_type": "code",
   "execution_count": 4,
   "metadata": {
    "ExecuteTime": {
     "end_time": "2018-04-13T02:27:54.878458",
     "start_time": "2018-04-13T02:27:54.862490"
    },
    "run_control": {
     "frozen": false,
     "read_only": false
    }
   },
   "outputs": [
    {
     "data": {
      "text/html": [
       "<applet archive=\"http://www.geogebra.org/webstart/4.2/geogebra.jar\" code=\"geogebra.GeoGebraApplet\" codebase=\"http://www.geogebra.org/webstart/4.2/unsigned/\" height=\"450\" id=\"ggb_applet_1\" width=\"650\">Sorry, the GeoGebra Applet could not be started.\n",
       "Please make sure that Java 1.4.2 (or later) is installed and activated.\n",
       "(&lt;a href=\"http://java.sun.com/getjava\"&gt;Click here to install Java now&lt;/a&gt;)<param name=\"showToolBar\" value=\"true\" />\n",
       "  <param name=\"showResetIcon\" value=\"true\" />\n",
       "  <param name=\"filename\" value=\"star.ggb\" />\n",
       "  <param name=\"java_arguments\" value=\"-Xmx512m -Djnlp.packEnabled=true\" />\n",
       "  <param name=\"image\" value=\"http://www.geogebra.org/webstart/loading.gif\" />\n",
       "</applet>\n"
      ],
      "text/plain": [
       "<IPython.core.display.HTML object>"
      ]
     },
     "execution_count": 4,
     "metadata": {},
     "output_type": "execute_result"
    }
   ],
   "source": [
    "%ggb --width 650 --height 450 --showToolBar 1 --showResetIcon 1 star.ggb"
   ]
  },
  {
   "cell_type": "code",
   "execution_count": 5,
   "metadata": {
    "ExecuteTime": {
     "end_time": "2018-04-13T02:27:54.885342",
     "start_time": "2018-04-13T02:27:54.879333"
    },
    "run_control": {
     "frozen": false,
     "read_only": false
    }
   },
   "outputs": [
    {
     "data": {
      "text/html": [
       "<applet archive=\"http://www.geogebra.org/webstart/4.2/geogebra.jar\" code=\"geogebra.GeoGebraApplet\" codebase=\"http://www.geogebra.org/webstart/4.2/unsigned/\" height=\"450\" id=\"ggb_applet_2\" width=\"650\">Sorry, the GeoGebra Applet could not be started.\n",
       "Please make sure that Java 1.4.2 (or later) is installed and activated.\n",
       "(&lt;a href=\"http://java.sun.com/getjava\"&gt;Click here to install Java now&lt;/a&gt;)<param name=\"filename\" value=\"noexist.ggb\" />\n",
       "  <param name=\"java_arguments\" value=\"-Xmx512m -Djnlp.packEnabled=true\" />\n",
       "  <param name=\"image\" value=\"http://www.geogebra.org/webstart/loading.gif\" />\n",
       "</applet>\n"
      ],
      "text/plain": [
       "<IPython.core.display.HTML object>"
      ]
     },
     "execution_count": 5,
     "metadata": {},
     "output_type": "execute_result"
    }
   ],
   "source": [
    "%ggb --width 650 --height 450 noexist.ggb"
   ]
  },
  {
   "cell_type": "code",
   "execution_count": 6,
   "metadata": {
    "ExecuteTime": {
     "end_time": "2018-04-13T02:27:54.894728",
     "start_time": "2018-04-13T02:27:54.886125"
    },
    "run_control": {
     "frozen": false,
     "read_only": false
    }
   },
   "outputs": [],
   "source": [
    "from IPython.display import HTML, Javascript"
   ]
  },
  {
   "cell_type": "code",
   "execution_count": 7,
   "metadata": {
    "ExecuteTime": {
     "end_time": "2018-04-13T02:27:54.906764",
     "start_time": "2018-04-13T02:27:54.895538"
    },
    "run_control": {
     "frozen": false,
     "read_only": false
    }
   },
   "outputs": [
    {
     "data": {
      "application/javascript": [
       "\n",
       "document.getElementById(\"ggb_applet_2\").evalCommand(\"Circle[(0,0), 1]\")\n"
      ],
      "text/plain": [
       "<IPython.core.display.Javascript object>"
      ]
     },
     "execution_count": 7,
     "metadata": {},
     "output_type": "execute_result"
    }
   ],
   "source": [
    "Javascript(\"\"\"\n",
    "document.getElementById(\"ggb_applet_2\").evalCommand(\"Circle[(0,0), 1]\")\n",
    "\"\"\")"
   ]
  },
  {
   "cell_type": "code",
   "execution_count": 8,
   "metadata": {
    "ExecuteTime": {
     "end_time": "2018-04-13T02:27:54.914320",
     "start_time": "2018-04-13T02:27:54.907578"
    },
    "run_control": {
     "frozen": false,
     "read_only": false
    }
   },
   "outputs": [
    {
     "data": {
      "text/plain": [
       "'\\nfunction on_applet_load() {\\n  document.getElementById(\"ggb_applet_2\").evalCommand(\"Circle[(0,0),1]\");\\n}\\nconsole.log(document.getElementById(\"ggb_applet_2\").status)\\ndocument.getElementById(\"ggb_applet_2\").onLoad(on_applet_load)\\n'"
      ]
     },
     "execution_count": 8,
     "metadata": {},
     "output_type": "execute_result"
    }
   ],
   "source": [
    "\"\"\"\n",
    "function on_applet_load() {\n",
    "  document.getElementById(\"ggb_applet_2\").evalCommand(\"Circle[(0,0),1]\");\n",
    "}\n",
    "console.log(document.getElementById(\"ggb_applet_2\").status)\n",
    "document.getElementById(\"ggb_applet_2\").onLoad(on_applet_load)\n",
    "\"\"\""
   ]
  },
  {
   "cell_type": "code",
   "execution_count": null,
   "metadata": {
    "run_control": {
     "frozen": false,
     "read_only": false
    }
   },
   "outputs": [],
   "source": []
  }
 ],
 "metadata": {
  "kernelspec": {
   "display_name": "Python 2",
   "language": "python",
   "name": "python2"
  },
  "language_info": {
   "codemirror_mode": {
    "name": "ipython",
    "version": 2
   },
   "file_extension": ".py",
   "mimetype": "text/x-python",
   "name": "python",
   "nbconvert_exporter": "python",
   "pygments_lexer": "ipython2",
   "version": "2.7.15"
  },
  "toc": {
   "nav_menu": {
    "height": "45px",
    "width": "252px"
   },
   "navigate_menu": true,
   "number_sections": true,
   "sideBar": true,
   "threshold": 4,
   "toc_cell": false,
   "toc_section_display": "block",
   "toc_window_display": false
  }
 },
 "nbformat": 4,
 "nbformat_minor": 1
}
